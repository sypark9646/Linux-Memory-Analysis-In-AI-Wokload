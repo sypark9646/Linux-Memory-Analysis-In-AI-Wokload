{
  "nbformat": 4,
  "nbformat_minor": 0,
  "metadata": {
    "colab": {
      "name": "preprocessing",
      "provenance": [],
      "collapsed_sections": []
    },
    "kernelspec": {
      "name": "python3",
      "display_name": "Python 3"
    },
    "language_info": {
      "name": "python"
    }
  },
  "cells": [
    {
      "cell_type": "code",
      "source": [
        "# mount google drive\n",
        "import os, sys\n",
        "from google.colab import drive\n",
        "drive.mount('/content/gdrive/', force_remount=False)\n",
        "%cd '/content/gdrive/My Drive/컴퓨터시스템성능평가/'"
      ],
      "metadata": {
        "colab": {
          "base_uri": "https://localhost:8080/"
        },
        "id": "uXBWlUHmZe-b",
        "outputId": "1c9106fc-aa64-4c51-b707-fd7cb602f097"
      },
      "execution_count": 20,
      "outputs": [
        {
          "output_type": "stream",
          "name": "stdout",
          "text": [
            "Drive already mounted at /content/gdrive/; to attempt to forcibly remount, call drive.mount(\"/content/gdrive/\", force_remount=True).\n",
            "/content/gdrive/My Drive/컴퓨터시스템성능평가\n"
          ]
        }
      ]
    },
    {
      "cell_type": "code",
      "source": [
        "# remove timestamp\n",
        "\n",
        "read_file_name = \"./tensorflow_churn_modelling/raw_data.txt\"\n",
        "write_file_name = read_file_name[:-4]+\"_clear.txt\"\n",
        "file_write = open(write_file_name, \"w\");\n",
        "# file_write.write(\"type address size\\n\") # write header\n",
        "file_write.close()\n",
        "\n",
        "file_write = open(write_file_name, \"a\");\n",
        "with open(read_file_name) as f:\n",
        "    for line in f:\n",
        "      if (line.startswith('read') or line.startswith('write')):\n",
        "        data_line = line.split()\n",
        "        data_line.pop()\n",
        "        file_write.write(\" \".join(data_line)+\"\\n\")\n",
        "file_write.close()"
      ],
      "metadata": {
        "id": "RnqZUjaUje6T"
      },
      "execution_count": 22,
      "outputs": []
    },
    {
      "cell_type": "code",
      "source": [
        "# split into 2 files by timestamp\n",
        "\n",
        "TIMESTAMP = 1648526782.531043665\n",
        "\n",
        "read_file_name = \"./keras_mnist/raw_data.txt\"\n",
        "write_before_file_name = read_file_name[:-4]+\"_before.txt\"\n",
        "write_after_file_name = read_file_name[:-4]+\"_after.txt\"\n",
        "file_before_write = open(write_before_file_name, \"w\");\n",
        "file_after_write = open(write_after_file_name, \"w\");\n",
        "# file_before_write.write(\"type address size\\n\") # write header\n",
        "# file_after_write.write(\"type address size\\n\") # write header\n",
        "file_before_write.close()\n",
        "file_after_write.close()\n",
        "\n",
        "file_before_write = open(write_before_file_name, \"a\");\n",
        "file_after_write = open(write_after_file_name, \"a\");\n",
        "with open(read_file_name) as f:\n",
        "    for line in f:\n",
        "      if (line.startswith('read') or line.startswith('write')):\n",
        "        data_line = line.split()\n",
        "        currnet_time = data_line.pop()\n",
        "        if float(currnet_time) < TIMESTAMP:\n",
        "          file_before_write.write(\" \".join(data_line)+\"\\n\")\n",
        "        else:\n",
        "          file_after_write.write(\" \".join(data_line)+\"\\n\")\n",
        "file_before_write.close()\n",
        "file_after_write.close()"
      ],
      "metadata": {
        "id": "FaTbLOA8CmHY"
      },
      "execution_count": 18,
      "outputs": []
    }
  ]
}
